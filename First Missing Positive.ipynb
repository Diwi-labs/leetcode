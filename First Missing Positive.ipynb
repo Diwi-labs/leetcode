{
 "cells": [
  {
   "cell_type": "markdown",
   "id": "06d4b6bc",
   "metadata": {},
   "source": [
    "Given an unsorted integer array nums, return the smallest missing positive integer.\n",
    "\n",
    "You must implement an algorithm that runs in O(n) time and uses O(1) auxiliary space."
   ]
  },
  {
   "cell_type": "markdown",
   "id": "c9dd0c84",
   "metadata": {},
   "source": [
    "## Example :\n",
    "\n",
    "Input: nums = [3,4,-1,1]\n",
    "\n",
    "Output: 2\n",
    "\n",
    "Explanation: 1 is in the array but 2 is missing."
   ]
  },
  {
   "cell_type": "code",
   "execution_count": 5,
   "id": "7483138e",
   "metadata": {},
   "outputs": [],
   "source": [
    "def fmp_finder(array):\n",
    "    if max(array) > 0:\n",
    "        for i in range(max(1, min(array)), max(array)):\n",
    "            if i not in array:\n",
    "                return i\n",
    "    else:\n",
    "        print(\"Error : not positive values in array\")"
   ]
  },
  {
   "cell_type": "code",
   "execution_count": 6,
   "id": "a3f1b70b",
   "metadata": {},
   "outputs": [
    {
     "name": "stdout",
     "output_type": "stream",
     "text": [
      "2\n"
     ]
    }
   ],
   "source": [
    "array = [3, 4, -1, 1]\n",
    "\n",
    "print(fmp_finder(array))"
   ]
  }
 ],
 "metadata": {
  "kernelspec": {
   "display_name": "Python 3 (ipykernel)",
   "language": "python",
   "name": "python3"
  },
  "language_info": {
   "codemirror_mode": {
    "name": "ipython",
    "version": 3
   },
   "file_extension": ".py",
   "mimetype": "text/x-python",
   "name": "python",
   "nbconvert_exporter": "python",
   "pygments_lexer": "ipython3",
   "version": "3.10.9"
  }
 },
 "nbformat": 4,
 "nbformat_minor": 5
}
