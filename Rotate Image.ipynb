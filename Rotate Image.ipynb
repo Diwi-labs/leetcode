{
 "cells": [
  {
   "cell_type": "markdown",
   "id": "93f1cef5",
   "metadata": {},
   "source": [
    "You are given an n x n 2D matrix representing an image, rotate the image by 90 degrees (clockwise).\n",
    "\n",
    "You have to rotate the image in-place, which means you have to modify the input 2D matrix directly. DO NOT allocate another 2D matrix and do the rotation."
   ]
  },
  {
   "cell_type": "code",
   "execution_count": 1,
   "id": "79bb00b3",
   "metadata": {},
   "outputs": [],
   "source": []
  },
  {
   "cell_type": "code",
   "execution_count": 21,
   "id": "e5fb6238",
   "metadata": {},
   "outputs": [],
   "source": [
    "def rotate_matrix(df):\n",
    "    \n",
    "    rotation_matrix = np.zeros((df.shape[1], df.shape[0]))\n",
    "    \n",
    "    for i in range(df.shape[0]):\n",
    "        \n",
    "        j = df.shape[1] - i - 1\n",
    "        \n",
    "        rotation_matrix[i, j] = 1\n",
    "        \n",
    "    return np.matmul(df.T,rotation_matrix)"
   ]
  },
  {
   "cell_type": "code",
   "execution_count": 22,
   "id": "ee59ca2b",
   "metadata": {},
   "outputs": [
    {
     "name": "stdout",
     "output_type": "stream",
     "text": [
      "[[1 2]\n",
      " [3 4]]\n",
      "[[3. 1.]\n",
      " [4. 2.]]\n"
     ]
    }
   ],
   "source": [
    "a = np.matrix('1 2; 3 4')\n",
    "print(a)\n",
    "print(rotate_matrix(a))"
   ]
  },
  {
   "cell_type": "code",
   "execution_count": 19,
   "id": "4b97d55d",
   "metadata": {},
   "outputs": [
    {
     "name": "stdout",
     "output_type": "stream",
     "text": [
      "0 1\n",
      "[[0. 1.]\n",
      " [0. 0.]]\n",
      "1 0\n",
      "[[0. 1.]\n",
      " [1. 0.]]\n"
     ]
    },
    {
     "data": {
      "text/plain": [
       "matrix([[3., 1.],\n",
       "        [4., 2.]])"
      ]
     },
     "execution_count": 19,
     "metadata": {},
     "output_type": "execute_result"
    }
   ],
   "source": [
    "b = np.matrix('5 1 9 11; 2 4 8 10; ')"
   ]
  },
  {
   "cell_type": "code",
   "execution_count": null,
   "id": "0143bf1e",
   "metadata": {},
   "outputs": [],
   "source": []
  }
 ],
 "metadata": {
  "kernelspec": {
   "display_name": "Python 3 (ipykernel)",
   "language": "python",
   "name": "python3"
  },
  "language_info": {
   "codemirror_mode": {
    "name": "ipython",
    "version": 3
   },
   "file_extension": ".py",
   "mimetype": "text/x-python",
   "name": "python",
   "nbconvert_exporter": "python",
   "pygments_lexer": "ipython3",
   "version": "3.10.9"
  }
 },
 "nbformat": 4,
 "nbformat_minor": 5
}
