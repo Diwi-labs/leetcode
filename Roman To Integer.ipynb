{
 "cells": [
  {
   "cell_type": "markdown",
   "id": "2b831d4a",
   "metadata": {},
   "source": [
    "Roman numerals are represented by seven different symbols: I, V, X, L, C, D and M.\n",
    "\n",
    "Symbol       Value\n",
    "I             1\n",
    "V             5\n",
    "X             10\n",
    "L             50\n",
    "C             100\n",
    "D             500\n",
    "M             1000\n",
    "For example, 2 is written as II in Roman numeral, just two ones added together. 12 is written as XII, which is simply X + II. The number 27 is written as XXVII, which is XX + V + II.\n",
    "\n",
    "Roman numerals are usually written largest to smallest from left to right. However, the numeral for four is not IIII. Instead, the number four is written as IV. Because the one is before the five we subtract it making four. The same principle applies to the number nine, which is written as IX. There are six instances where subtraction is used:\n",
    "\n",
    "I can be placed before V (5) and X (10) to make 4 and 9. \n",
    "X can be placed before L (50) and C (100) to make 40 and 90. \n",
    "C can be placed before D (500) and M (1000) to make 400 and 900.\n",
    "Given a roman numeral, convert it to an integer."
   ]
  },
  {
   "cell_type": "code",
   "execution_count": 1,
   "id": "a92ec8f1",
   "metadata": {},
   "outputs": [],
   "source": [
    "def C2I(char):\n",
    "    if char == \"I\":\n",
    "        return 1\n",
    "    if char == \"V\":\n",
    "        return 5\n",
    "    if char == \"X\":\n",
    "        return 10\n",
    "    if char == \"L\":\n",
    "        return 50\n",
    "    if char == \"D\":\n",
    "        return 500\n",
    "    if char == \"M\":\n",
    "        return 1000\n",
    "    \n",
    "def R2I(roman):\n",
    "    integer = 0\n",
    "    for i in range(len(roman) - 1):\n",
    "        prin\n",
    "        if C2I(roman[i]) < C2I(roman[i+1]):\n",
    "            integer = integer - C2I(roman[i])\n",
    "        else:\n",
    "            integer = integer + C2I(roman[i])\n",
    "        return integer + C2I(roman[-1]) "
   ]
  },
  {
   "cell_type": "code",
   "execution_count": 2,
   "id": "8360c3db",
   "metadata": {},
   "outputs": [
    {
     "ename": "TypeError",
     "evalue": "'<' not supported between instances of 'int' and 'NoneType'",
     "output_type": "error",
     "traceback": [
      "\u001b[0;31m---------------------------------------------------------------------------\u001b[0m",
      "\u001b[0;31mTypeError\u001b[0m                                 Traceback (most recent call last)",
      "Cell \u001b[0;32mIn[2], line 1\u001b[0m\n\u001b[0;32m----> 1\u001b[0m \u001b[38;5;28mprint\u001b[39m(\u001b[43mR2I\u001b[49m\u001b[43m(\u001b[49m\u001b[38;5;124;43m\"\u001b[39;49m\u001b[38;5;124;43mMCMXCIV\u001b[39;49m\u001b[38;5;124;43m\"\u001b[39;49m\u001b[43m)\u001b[49m)\n",
      "Cell \u001b[0;32mIn[1], line 18\u001b[0m, in \u001b[0;36mR2I\u001b[0;34m(roman)\u001b[0m\n\u001b[1;32m     16\u001b[0m integer \u001b[38;5;241m=\u001b[39m \u001b[38;5;241m0\u001b[39m\n\u001b[1;32m     17\u001b[0m \u001b[38;5;28;01mfor\u001b[39;00m i \u001b[38;5;129;01min\u001b[39;00m \u001b[38;5;28mrange\u001b[39m(\u001b[38;5;28mlen\u001b[39m(roman) \u001b[38;5;241m-\u001b[39m \u001b[38;5;241m1\u001b[39m):\n\u001b[0;32m---> 18\u001b[0m     \u001b[38;5;28;01mif\u001b[39;00m \u001b[43mC2I\u001b[49m\u001b[43m(\u001b[49m\u001b[43mroman\u001b[49m\u001b[43m[\u001b[49m\u001b[43mi\u001b[49m\u001b[43m]\u001b[49m\u001b[43m)\u001b[49m\u001b[43m \u001b[49m\u001b[38;5;241;43m<\u001b[39;49m\u001b[43m \u001b[49m\u001b[43mC2I\u001b[49m\u001b[43m(\u001b[49m\u001b[43mroman\u001b[49m\u001b[43m[\u001b[49m\u001b[43mi\u001b[49m\u001b[38;5;241;43m+\u001b[39;49m\u001b[38;5;241;43m1\u001b[39;49m\u001b[43m]\u001b[49m\u001b[43m)\u001b[49m:\n\u001b[1;32m     19\u001b[0m         integer \u001b[38;5;241m=\u001b[39m integer \u001b[38;5;241m-\u001b[39m C2I(roman[i])\n\u001b[1;32m     20\u001b[0m     \u001b[38;5;28;01melse\u001b[39;00m:\n",
      "\u001b[0;31mTypeError\u001b[0m: '<' not supported between instances of 'int' and 'NoneType'"
     ]
    }
   ],
   "source": [
    "print(R2I(\"MCMXCIV\"))"
   ]
  },
  {
   "cell_type": "code",
   "execution_count": null,
   "id": "6e3648e7",
   "metadata": {},
   "outputs": [],
   "source": []
  }
 ],
 "metadata": {
  "kernelspec": {
   "display_name": "Python 3 (ipykernel)",
   "language": "python",
   "name": "python3"
  },
  "language_info": {
   "codemirror_mode": {
    "name": "ipython",
    "version": 3
   },
   "file_extension": ".py",
   "mimetype": "text/x-python",
   "name": "python",
   "nbconvert_exporter": "python",
   "pygments_lexer": "ipython3",
   "version": "3.10.9"
  }
 },
 "nbformat": 4,
 "nbformat_minor": 5
}
