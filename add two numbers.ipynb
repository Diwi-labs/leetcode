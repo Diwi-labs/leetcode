{
 "cells": [
  {
   "cell_type": "markdown",
   "id": "cb619947",
   "metadata": {},
   "source": [
    "You are given two non-empty linked lists representing two non-negative integers. The digits are stored in reverse order, and each of their nodes contains a single digit. Add the two numbers and return the sum as a linked list.\n",
    "\n",
    "You may assume the two numbers do not contain any leading zero, except the number 0 itself.\n",
    "\n"
   ]
  },
  {
   "cell_type": "code",
   "execution_count": 3,
   "id": "9ed8e2f8",
   "metadata": {},
   "outputs": [],
   "source": [
    "# I wanted to make a function which didn't reverse this list as this would increase the workload unnecessarily\n",
    "\n",
    "def number_adder(l1, l2):\n",
    "    \n",
    "    n1 = \"\"\n",
    "    n2 = \"\"\n",
    "    \n",
    "    for i in range(len(l1)-1, -1, -1):\n",
    "        n1 = n1 + str(l1[i])\n",
    "        \n",
    "    for i in range(len(l2)-1, -1, -1):\n",
    "        n2 = n2 + str(l2[i])\n",
    "        \n",
    "    return int(n1) + int(n2)  "
   ]
  },
  {
   "cell_type": "code",
   "execution_count": 4,
   "id": "1dc452e2",
   "metadata": {},
   "outputs": [
    {
     "name": "stdout",
     "output_type": "stream",
     "text": [
      "642\n"
     ]
    }
   ],
   "source": [
    "l1 = [1, 2, 3]\n",
    "l2 = [1, 2, 3]\n",
    "\n",
    "print(number_adder(l1, l2))"
   ]
  }
 ],
 "metadata": {
  "kernelspec": {
   "display_name": "Python 3 (ipykernel)",
   "language": "python",
   "name": "python3"
  },
  "language_info": {
   "codemirror_mode": {
    "name": "ipython",
    "version": 3
   },
   "file_extension": ".py",
   "mimetype": "text/x-python",
   "name": "python",
   "nbconvert_exporter": "python",
   "pygments_lexer": "ipython3",
   "version": "3.10.9"
  }
 },
 "nbformat": 4,
 "nbformat_minor": 5
}
