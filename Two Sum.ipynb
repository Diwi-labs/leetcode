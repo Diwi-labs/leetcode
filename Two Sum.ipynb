{
 "cells": [
  {
   "cell_type": "markdown",
   "id": "98ece781",
   "metadata": {},
   "source": [
    "Given an array of integers nums and an integer target, return indices of the two numbers such that they add up to target.\n",
    "\n",
    "You may assume that each input would have exactly one solution, and you may not use the same element twice.\n",
    "\n",
    "You can return the answer in any order."
   ]
  },
  {
   "cell_type": "code",
   "execution_count": 7,
   "id": "667ee3c7",
   "metadata": {},
   "outputs": [
    {
     "data": {
      "text/plain": [
       "(2, 3)"
      ]
     },
     "execution_count": 7,
     "metadata": {},
     "output_type": "execute_result"
    }
   ],
   "source": [
    "def TwoSum(nums, target):\n",
    "    \n",
    "    for i in range(len(nums)):\n",
    "        for j in range(1, len(nums) - i):\n",
    "            if nums[i] + nums[j + i] == target:\n",
    "                return i, j + i\n",
    "                break\n",
    "    print(\"No Combination Found\")\n",
    "        \n",
    "            \n",
    "            \n",
    "tl = [i**2 for i in range(10)]\n",
    "t = 13\n",
    "\n",
    "TwoSum(tl, t)"
   ]
  }
 ],
 "metadata": {
  "kernelspec": {
   "display_name": "Python 3 (ipykernel)",
   "language": "python",
   "name": "python3"
  },
  "language_info": {
   "codemirror_mode": {
    "name": "ipython",
    "version": 3
   },
   "file_extension": ".py",
   "mimetype": "text/x-python",
   "name": "python",
   "nbconvert_exporter": "python",
   "pygments_lexer": "ipython3",
   "version": "3.10.9"
  }
 },
 "nbformat": 4,
 "nbformat_minor": 5
}
